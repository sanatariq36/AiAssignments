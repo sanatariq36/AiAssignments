{
 "cells": [
  {
   "cell_type": "markdown",
   "metadata": {},
   "source": [
    "<h3>Q no 1:  Write a python program to find number of occurrences of given number in a list with out using built-in methods</h3>\n",
    "<h4>**1 generate a list of some random num which is repeated again and again</h4>\n",
    "<h4>**2 take user input any number</h4>\n",
    "<h4>**3 find the number of occurrences of that num in your list</h4>\n",
    "<h4>**4 print some message to user with that result</h4>"
   ]
  },
  {
   "cell_type": "code",
   "execution_count": 3,
   "metadata": {},
   "outputs": [
    {
     "name": "stdout",
     "output_type": "stream",
     "text": [
      "Enter Number: 4\n",
      "No. of occurances=  2\n"
     ]
    }
   ],
   "source": [
    "occurance = 0\n",
    "numbers = [1,2,4,3,6,9,5,7,3,4,3,2,3]\n",
    "picknum = int(input('Enter Number: '))\n",
    "\n",
    "for x in numbers:\n",
    "    if picknum==x:\n",
    "        occurance+=1\n",
    "print('No. of occurances= ',occurance)"
   ]
  },
  {
   "cell_type": "markdown",
   "metadata": {},
   "source": [
    "<h3>Q no 2:   [\"www.zframez.com\", \"www.wikipedia.org\", \"www.asp.net\", \"www.abcd.in\"]\n",
    "<br/><br/><br/><br/><br/>\n",
    "Write a python program to print website suffixes (com , org , net ,in) from this list\n",
    "</h3>"
   ]
  },
  {
   "cell_type": "code",
   "execution_count": 4,
   "metadata": {},
   "outputs": [
    {
     "name": "stdout",
     "output_type": "stream",
     "text": [
      "com\n",
      "org\n",
      "net\n",
      "in\n"
     ]
    }
   ],
   "source": [
    "websites =  [\"www.zframez.com\", \"www.wikipedia.org\", \"www.asp.net\", \"www.abcd.in\"]\n",
    "for suf in websites:\n",
    "    required = suf.split('.')\n",
    "    print(required[-1])\n",
    "\n"
   ]
  },
  {
   "cell_type": "code",
   "execution_count": null,
   "metadata": {},
   "outputs": [],
   "source": []
  },
  {
   "cell_type": "markdown",
   "metadata": {},
   "source": [
    "<h3> Q no 3 : Write a program which can compute the factorial of a given numbers.</h3>\n",
    "<br/>\n",
    "<br/>\n",
    "<h4>**1 first take user input any number</h4>\n",
    "<h4>**2 calculate factorial of that input and then print the result to user</h4>"
   ]
  },
  {
   "cell_type": "code",
   "execution_count": 5,
   "metadata": {},
   "outputs": [
    {
     "name": "stdout",
     "output_type": "stream",
     "text": [
      "Enter Number : 6\n",
      "Factorial = 720\n"
     ]
    }
   ],
   "source": [
    "\n",
    "a = 1\n",
    "num = int(input('Enter Number : '))\n",
    "for x in range(1,num+1):\n",
    "    a *= x\n",
    "    \n",
    "print('Factorial = {}'.format(a))\n",
    "\n"
   ]
  },
  {
   "cell_type": "markdown",
   "metadata": {},
   "source": [
    "<h3>Q 4 (a) :  If you could invite anyone, living or deceased, to dinner, who\n",
    "would you invite? Make a list that includes at least three people you’d like to\n",
    "invite to dinner. Then use your list to print a message to each person, inviting\n",
    "them to dinner.</h3>"
   ]
  },
  {
   "cell_type": "code",
   "execution_count": 6,
   "metadata": {},
   "outputs": [
    {
     "name": "stdout",
     "output_type": "stream",
     "text": [
      "Mina, you are invited to a fabulous dinner! Please do come, it will be our honour to have you as our guest\n",
      "Moatter, you are invited to a fabulous dinner! Please do come, it will be our honour to have you as our guest\n",
      "Fatima, you are invited to a fabulous dinner! Please do come, it will be our honour to have you as our guest\n",
      "Aiman, you are invited to a fabulous dinner! Please do come, it will be our honour to have you as our guest\n",
      "Sana, you are invited to a fabulous dinner! Please do come, it will be our honour to have you as our guest\n"
     ]
    }
   ],
   "source": [
    "guests = ['Mina','Moatter','Fatima','Aiman','Sana']\n",
    "for x in guests:\n",
    "    print('{}, you are invited to a fabulous dinner! Please do come, it will be our honour to have you as our guest'.format(x))\n",
    "\n"
   ]
  },
  {
   "cell_type": "markdown",
   "metadata": {},
   "source": [
    "<h3>Q 4 (b) : You just heard that one of your guests can’t make the\n",
    "dinner, so you need to send out a new set of invitations. You’ll have to think of\n",
    "someone else to invite.<br/></br><br/>\n",
    "•\t Start with your program from Q 4 (a). Add a print statement at the\n",
    "end of your program stating the name of the guest who can’t make it.<br/></br><br/>\n",
    "•\t Modify your list, replacing the name of the guest who can’t make it with\n",
    "the name of the new person you are inviting.<br/></br><br/>\n",
    "•\t Print a second set of invitation messages, one for each person who is still\n",
    "in your list.<br/></br><br/></h3>\n"
   ]
  },
  {
   "cell_type": "code",
   "execution_count": 7,
   "metadata": {},
   "outputs": [
    {
     "name": "stdout",
     "output_type": "stream",
     "text": [
      "\n",
      "Sana is not going to make it.\n",
      "\n",
      "Mina, you are invited to a fabulous dinner! Please do come, it will be our honour to have you as our guest\n",
      "Moatter, you are invited to a fabulous dinner! Please do come, it will be our honour to have you as our guest\n",
      "Fatima, you are invited to a fabulous dinner! Please do come, it will be our honour to have you as our guest\n",
      "Aiman, you are invited to a fabulous dinner! Please do come, it will be our honour to have you as our guest\n",
      "Cinderella, you are invited to a fabulous dinner! Please do come, it will be our honour to have you as our guest\n"
     ]
    }
   ],
   "source": [
    "guests = ['Mina','Moatter','Fatima','Aiman','Sana']\n",
    "\n",
    "print('\\nSana is not going to make it.\\n')\n",
    "guests[4] = 'Cinderella'\n",
    "\n",
    "for x in guests:\n",
    "    print('{}, you are invited to a fabulous dinner! Please do come, it will be our honour to have you as our guest'.format(x))"
   ]
  },
  {
   "cell_type": "code",
   "execution_count": null,
   "metadata": {},
   "outputs": [],
   "source": []
  },
  {
   "cell_type": "code",
   "execution_count": null,
   "metadata": {},
   "outputs": [],
   "source": []
  },
  {
   "cell_type": "markdown",
   "metadata": {},
   "source": [
    "<h3>Q 4 (c) : You just found a bigger dinner table, so now more space is\n",
    "available. Think of three more guests to invite to dinner.<br/></br><br/>\n",
    "•\t Start with your program from Q 4 (a) and (b) Add a print\n",
    "statement to the end of your program informing people that you found a\n",
    "bigger dinner table.<br/></br><br/>\n",
    "•\t Use insert() to add one new guest to the beginning of your list.<br/></br><br/>\n",
    "•\t Use insert() to add one new guest to the middle of your list.<br/></br><br/>\n",
    "•\t Use append() to add one new guest to the end of your list.<br/></br><br/>\n",
    "•\t Print a new set of invitation messages, one for each person in your list.<br/></br><br/></h3>"
   ]
  },
  {
   "cell_type": "code",
   "execution_count": 8,
   "metadata": {},
   "outputs": [
    {
     "name": "stdout",
     "output_type": "stream",
     "text": [
      "Good News: JUST FOUND A BIGGER TABLE, YAY!\n",
      "Wally, you are invited to a fabulous dinner! Please do come, it will be our honour to have you as our guest\n",
      "Mina, you are invited to a fabulous dinner! Please do come, it will be our honour to have you as our guest\n",
      "Sundar, you are invited to a fabulous dinner! Please do come, it will be our honour to have you as our guest\n",
      "Moatter, you are invited to a fabulous dinner! Please do come, it will be our honour to have you as our guest\n",
      "Fatima, you are invited to a fabulous dinner! Please do come, it will be our honour to have you as our guest\n",
      "Aiman, you are invited to a fabulous dinner! Please do come, it will be our honour to have you as our guest\n",
      "Cinderella, you are invited to a fabulous dinner! Please do come, it will be our honour to have you as our guest\n",
      "Mehr-un-Nisa, you are invited to a fabulous dinner! Please do come, it will be our honour to have you as our guest\n"
     ]
    }
   ],
   "source": [
    "print ('Good News: JUST FOUND A BIGGER TABLE, YAY!') \n",
    "guests.insert(0, 'Wally')\n",
    "guests.insert(2, 'Sundar')\n",
    "guests.append('Mehr-un-Nisa')\n",
    "for x in guests:\n",
    "    print('{}, you are invited to a fabulous dinner! Please do come, it will be our honour to have you as our guest'.format(x))"
   ]
  },
  {
   "cell_type": "code",
   "execution_count": null,
   "metadata": {},
   "outputs": [],
   "source": []
  },
  {
   "cell_type": "code",
   "execution_count": null,
   "metadata": {},
   "outputs": [],
   "source": []
  },
  {
   "cell_type": "markdown",
   "metadata": {},
   "source": [
    "<h5> Q 5 : Here you have some data in variable below, your task is to make a list of specific word Surah then print the list and length of list</h5>\n"
   ]
  },
  {
   "cell_type": "code",
   "execution_count": 18,
   "metadata": {},
   "outputs": [
    {
     "name": "stdout",
     "output_type": "stream",
     "text": [
      "['Sura', 'Sura', 'Sura']\n",
      "length : 3\n"
     ]
    }
   ],
   "source": [
    "data = \"Sura I Who believe in the Unseen, Sura Are steadfast in prayer, And spend Sura out of what We Have provided for them;\"\n",
    "data2 = data.split()\n",
    "        \n",
    "sura_list = []\n",
    "for c in data2:\n",
    "    if c == 'Sura':\n",
    "        sura_list.append(c)\n",
    "        \n",
    "print(sura_list)\n",
    "print('length : {}'.format(len(sura_list)))"
   ]
  },
  {
   "cell_type": "code",
   "execution_count": null,
   "metadata": {},
   "outputs": [],
   "source": []
  }
 ],
 "metadata": {
  "kernelspec": {
   "display_name": "Python 3",
   "language": "python",
   "name": "python3"
  },
  "language_info": {
   "codemirror_mode": {
    "name": "ipython",
    "version": 3
   },
   "file_extension": ".py",
   "mimetype": "text/x-python",
   "name": "python",
   "nbconvert_exporter": "python",
   "pygments_lexer": "ipython3",
   "version": "3.6.5"
  }
 },
 "nbformat": 4,
 "nbformat_minor": 2
}
